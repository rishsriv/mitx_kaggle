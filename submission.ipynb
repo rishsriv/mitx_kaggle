{
 "metadata": {
  "name": "",
  "signature": "sha256:e4f986a6d04f5ee2d0d0c7d50f2e9f773e12201e376329797a95194bde393142"
 },
 "nbformat": 3,
 "nbformat_minor": 0,
 "worksheets": [
  {
   "cells": [
    {
     "cell_type": "code",
     "collapsed": false,
     "input": [
      "import pandas as pd"
     ],
     "language": "python",
     "metadata": {},
     "outputs": [],
     "prompt_number": 2
    },
    {
     "cell_type": "code",
     "collapsed": false,
     "input": [
      "df = pd.read_csv('pred_gradboost_3gram.csv', index_col = 0).sort().join(pd.read_csv('pred_xgboost.csv', index_col = 0).sort(), rsuffix=\"_2\")"
     ],
     "language": "python",
     "metadata": {},
     "outputs": [],
     "prompt_number": 3
    },
    {
     "cell_type": "code",
     "collapsed": false,
     "input": [
      "df.corr()"
     ],
     "language": "python",
     "metadata": {},
     "outputs": [
      {
       "html": [
        "<div style=\"max-height:1000px;max-width:1500px;overflow:auto;\">\n",
        "<table border=\"1\" class=\"dataframe\">\n",
        "  <thead>\n",
        "    <tr style=\"text-align: right;\">\n",
        "      <th></th>\n",
        "      <th>Probability1</th>\n",
        "      <th>Probability1_2</th>\n",
        "    </tr>\n",
        "  </thead>\n",
        "  <tbody>\n",
        "    <tr>\n",
        "      <th>Probability1</th>\n",
        "      <td>1.00000</td>\n",
        "      <td>0.97182</td>\n",
        "    </tr>\n",
        "    <tr>\n",
        "      <th>Probability1_2</th>\n",
        "      <td>0.97182</td>\n",
        "      <td>1.00000</td>\n",
        "    </tr>\n",
        "  </tbody>\n",
        "</table>\n",
        "</div>"
       ],
       "metadata": {},
       "output_type": "pyout",
       "prompt_number": 4,
       "text": [
        "                Probability1  Probability1_2\n",
        "Probability1         1.00000         0.97182\n",
        "Probability1_2       0.97182         1.00000"
       ]
      }
     ],
     "prompt_number": 4
    },
    {
     "cell_type": "code",
     "collapsed": false,
     "input": [
      "df.describe()"
     ],
     "language": "python",
     "metadata": {},
     "outputs": [
      {
       "html": [
        "<div style=\"max-height:1000px;max-width:1500px;overflow:auto;\">\n",
        "<table border=\"1\" class=\"dataframe\">\n",
        "  <thead>\n",
        "    <tr style=\"text-align: right;\">\n",
        "      <th></th>\n",
        "      <th>Probability1</th>\n",
        "      <th>Probability1_2</th>\n",
        "    </tr>\n",
        "  </thead>\n",
        "  <tbody>\n",
        "    <tr>\n",
        "      <th>count</th>\n",
        "      <td>1870.000000</td>\n",
        "      <td>1870.000000</td>\n",
        "    </tr>\n",
        "    <tr>\n",
        "      <th>mean</th>\n",
        "      <td>0.177322</td>\n",
        "      <td>0.176478</td>\n",
        "    </tr>\n",
        "    <tr>\n",
        "      <th>std</th>\n",
        "      <td>0.267986</td>\n",
        "      <td>0.265461</td>\n",
        "    </tr>\n",
        "    <tr>\n",
        "      <th>min</th>\n",
        "      <td>0.002881</td>\n",
        "      <td>0.002000</td>\n",
        "    </tr>\n",
        "    <tr>\n",
        "      <th>25%</th>\n",
        "      <td>0.013888</td>\n",
        "      <td>0.014225</td>\n",
        "    </tr>\n",
        "    <tr>\n",
        "      <th>50%</th>\n",
        "      <td>0.041453</td>\n",
        "      <td>0.044450</td>\n",
        "    </tr>\n",
        "    <tr>\n",
        "      <th>75%</th>\n",
        "      <td>0.199611</td>\n",
        "      <td>0.206000</td>\n",
        "    </tr>\n",
        "    <tr>\n",
        "      <th>max</th>\n",
        "      <td>0.962847</td>\n",
        "      <td>0.973700</td>\n",
        "    </tr>\n",
        "  </tbody>\n",
        "</table>\n",
        "</div>"
       ],
       "metadata": {},
       "output_type": "pyout",
       "prompt_number": 5,
       "text": [
        "       Probability1  Probability1_2\n",
        "count   1870.000000     1870.000000\n",
        "mean       0.177322        0.176478\n",
        "std        0.267986        0.265461\n",
        "min        0.002881        0.002000\n",
        "25%        0.013888        0.014225\n",
        "50%        0.041453        0.044450\n",
        "75%        0.199611        0.206000\n",
        "max        0.962847        0.973700"
       ]
      }
     ],
     "prompt_number": 5
    },
    {
     "cell_type": "code",
     "collapsed": false,
     "input": [
      "%matplotlib inline\n",
      "import matplotlib.pyplot as plt\n",
      "plt.style.use('ggplot')"
     ],
     "language": "python",
     "metadata": {},
     "outputs": [],
     "prompt_number": 7
    },
    {
     "cell_type": "code",
     "collapsed": false,
     "input": [
      "df['Probability1'].hist()"
     ],
     "language": "python",
     "metadata": {},
     "outputs": [
      {
       "metadata": {},
       "output_type": "pyout",
       "prompt_number": 8,
       "text": [
        "<matplotlib.axes._subplots.AxesSubplot at 0x106c3cfd0>"
       ]
      },
      {
       "metadata": {},
       "output_type": "display_data",
       "png": "[encoded data removed]",
       "text": [
        "<matplotlib.figure.Figure at 0x106c3ca10>"
       ]
      }
     ],
     "prompt_number": 8
    },
    {
     "cell_type": "code",
     "collapsed": false,
     "input": [
      "df['Probability1_2'].hist()"
     ],
     "language": "python",
     "metadata": {},
     "outputs": [
      {
       "metadata": {},
       "output_type": "pyout",
       "prompt_number": 9,
       "text": [
        "<matplotlib.axes._subplots.AxesSubplot at 0x106f70a90>"
       ]
      },
      {
       "metadata": {},
       "output_type": "display_data",
       "png": "[encoded data removed]",
       "text": [
        "<matplotlib.figure.Figure at 0x106da5490>"
       ]
      }
     ],
     "prompt_number": 9
    },
    {
     "cell_type": "markdown",
     "metadata": {},
     "source": [
      "a <--> b <--> c"
     ]
    },
    {
     "cell_type": "code",
     "collapsed": false,
     "input": [
      "df.head()"
     ],
     "language": "python",
     "metadata": {},
     "outputs": [
      {
       "html": [
        "<div style=\"max-height:1000px;max-width:1500px;overflow:auto;\">\n",
        "<table border=\"1\" class=\"dataframe\">\n",
        "  <thead>\n",
        "    <tr style=\"text-align: right;\">\n",
        "      <th></th>\n",
        "      <th>Probability1</th>\n",
        "      <th>Probability1_2</th>\n",
        "    </tr>\n",
        "    <tr>\n",
        "      <th>UniqueID</th>\n",
        "      <th></th>\n",
        "      <th></th>\n",
        "    </tr>\n",
        "  </thead>\n",
        "  <tbody>\n",
        "    <tr>\n",
        "      <th>6533</th>\n",
        "      <td>0.025654</td>\n",
        "      <td>0.0352</td>\n",
        "    </tr>\n",
        "    <tr>\n",
        "      <th>6534</th>\n",
        "      <td>0.097711</td>\n",
        "      <td>0.1625</td>\n",
        "    </tr>\n",
        "    <tr>\n",
        "      <th>6535</th>\n",
        "      <td>0.907108</td>\n",
        "      <td>0.7965</td>\n",
        "    </tr>\n",
        "    <tr>\n",
        "      <th>6536</th>\n",
        "      <td>0.323196</td>\n",
        "      <td>0.2136</td>\n",
        "    </tr>\n",
        "    <tr>\n",
        "      <th>6537</th>\n",
        "      <td>0.148832</td>\n",
        "      <td>0.2191</td>\n",
        "    </tr>\n",
        "  </tbody>\n",
        "</table>\n",
        "</div>"
       ],
       "metadata": {},
       "output_type": "pyout",
       "prompt_number": 11,
       "text": [
        "          Probability1  Probability1_2\n",
        "UniqueID                              \n",
        "6533          0.025654          0.0352\n",
        "6534          0.097711          0.1625\n",
        "6535          0.907108          0.7965\n",
        "6536          0.323196          0.2136\n",
        "6537          0.148832          0.2191"
       ]
      }
     ],
     "prompt_number": 11
    },
    {
     "cell_type": "code",
     "collapsed": false,
     "input": [
      "df['Probability1'] = (df['Probability1'] + df['Probability1_2'])/2\n",
      "df[['Probability1']].to_csv('pred_xgboost_gradboost_ensemble.csv')"
     ],
     "language": "python",
     "metadata": {},
     "outputs": [],
     "prompt_number": 12
    },
    {
     "cell_type": "code",
     "collapsed": false,
     "input": [],
     "language": "python",
     "metadata": {},
     "outputs": []
    }
   ],
   "metadata": {}
  }
 ]
}