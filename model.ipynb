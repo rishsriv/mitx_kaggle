{
 "metadata": {
  "name": "",
  "signature": "sha256:17fde3432f577ae62293bb7eb908674f62266493b6f15b40b8a7f24aa35fec98"
 },
 "nbformat": 3,
 "nbformat_minor": 0,
 "worksheets": [
  {
   "cells": [
    {
     "cell_type": "heading",
     "level": 1,
     "metadata": {},
     "source": [
      "Predicting which NYT articles will be popular"
     ]
    },
    {
     "cell_type": "code",
     "collapsed": false,
     "input": [
      "import pandas as pd\n",
      "import numpy as np\n",
      "from sklearn.feature_extraction.text import TfidfVectorizer"
     ],
     "language": "python",
     "metadata": {},
     "outputs": [
      {
       "output_type": "stream",
       "stream": "stderr",
       "text": [
        "/Library/Frameworks/Python.framework/Versions/2.7/lib/python2.7/site-packages/scipy/stats/_continuous_distns.py:24: RuntimeWarning: numpy.dtype size changed, may indicate binary incompatibility\n",
        "  from . import vonmises_cython\n",
        "/Library/Frameworks/Python.framework/Versions/2.7/lib/python2.7/site-packages/scipy/stats/_continuous_distns.py:24: RuntimeWarning: numpy.ufunc size changed, may indicate binary incompatibility\n",
        "  from . import vonmises_cython\n",
        "/Library/Frameworks/Python.framework/Versions/2.7/lib/python2.7/site-packages/scipy/stats/stats.py:188: RuntimeWarning: numpy.dtype size changed, may indicate binary incompatibility\n",
        "  from ._rank import rankdata, tiecorrect\n"
       ]
      },
      {
       "output_type": "stream",
       "stream": "stderr",
       "text": [
        "/Library/Frameworks/Python.framework/Versions/2.7/lib/python2.7/site-packages/scipy/stats/stats.py:188: RuntimeWarning: numpy.ufunc size changed, may indicate binary incompatibility\n",
        "  from ._rank import rankdata, tiecorrect\n"
       ]
      }
     ],
     "prompt_number": 1
    },
    {
     "cell_type": "code",
     "collapsed": false,
     "input": [
      "%matplotlib inline\n",
      "import matplotlib.pyplot as plt\n",
      "plt.style.use('ggplot')"
     ],
     "language": "python",
     "metadata": {},
     "outputs": [],
     "prompt_number": 2
    },
    {
     "cell_type": "code",
     "collapsed": false,
     "input": [
      "pd.set_option('max_columns', 50)"
     ],
     "language": "python",
     "metadata": {},
     "outputs": [],
     "prompt_number": 3
    },
    {
     "cell_type": "code",
     "collapsed": false,
     "input": [
      "from nltk.stem import PorterStemmer\n",
      "from nltk import word_tokenize"
     ],
     "language": "python",
     "metadata": {},
     "outputs": [],
     "prompt_number": 4
    },
    {
     "cell_type": "code",
     "collapsed": false,
     "input": [
      "import string"
     ],
     "language": "python",
     "metadata": {},
     "outputs": [],
     "prompt_number": 5
    },
    {
     "cell_type": "code",
     "collapsed": false,
     "input": [
      "def process_text(text, stem=True):\n",
      "    \"\"\" Tokenize text and stem words removing punctuation \"\"\"\n",
      "    text = text.translate(string.punctuation)\n",
      "    tokens = word_tokenize(text)\n",
      " \n",
      "    if stem:\n",
      "        stemmer = PorterStemmer()\n",
      "        tokens = [stemmer.stem(t) for t in tokens]\n",
      " \n",
      "    return tokens"
     ],
     "language": "python",
     "metadata": {},
     "outputs": [],
     "prompt_number": 6
    },
    {
     "cell_type": "heading",
     "level": 3,
     "metadata": {},
     "source": [
      "Processing the data"
     ]
    },
    {
     "cell_type": "code",
     "collapsed": false,
     "input": [
      "df = pd.read_csv('NYTimesBlogTrain.csv', index_col=9)"
     ],
     "language": "python",
     "metadata": {},
     "outputs": [],
     "prompt_number": 7
    },
    {
     "cell_type": "markdown",
     "metadata": {},
     "source": [
      "Converting date from string to datetime"
     ]
    },
    {
     "cell_type": "code",
     "collapsed": false,
     "input": [
      "df['PubDate'] = pd.to_datetime(df['PubDate'])"
     ],
     "language": "python",
     "metadata": {},
     "outputs": [],
     "prompt_number": 8
    },
    {
     "cell_type": "markdown",
     "metadata": {},
     "source": [
      "Adding \"weekday\" variable."
     ]
    },
    {
     "cell_type": "code",
     "collapsed": false,
     "input": [
      "df['day'] = df['PubDate'].map(lambda x: x.weekday())"
     ],
     "language": "python",
     "metadata": {},
     "outputs": [],
     "prompt_number": 9
    },
    {
     "cell_type": "code",
     "collapsed": false,
     "input": [
      "df.groupby(df['PubDate'].map(lambda x: x.weekday())).agg('mean')\n",
      "#It is of course easier to just use df.groupby('day'). I used the above for learning purposes"
     ],
     "language": "python",
     "metadata": {},
     "outputs": [
      {
       "html": [
        "<div style=\"max-height:1000px;max-width:1500px;overflow:auto;\">\n",
        "<table border=\"1\" class=\"dataframe\">\n",
        "  <thead>\n",
        "    <tr style=\"text-align: right;\">\n",
        "      <th></th>\n",
        "      <th>WordCount</th>\n",
        "      <th>Popular</th>\n",
        "      <th>day</th>\n",
        "    </tr>\n",
        "    <tr>\n",
        "      <th>PubDate</th>\n",
        "      <th></th>\n",
        "      <th></th>\n",
        "      <th></th>\n",
        "    </tr>\n",
        "  </thead>\n",
        "  <tbody>\n",
        "    <tr>\n",
        "      <th>0</th>\n",
        "      <td>524.052288</td>\n",
        "      <td>0.174837</td>\n",
        "      <td>0</td>\n",
        "    </tr>\n",
        "    <tr>\n",
        "      <th>1</th>\n",
        "      <td>525.400840</td>\n",
        "      <td>0.146218</td>\n",
        "      <td>1</td>\n",
        "    </tr>\n",
        "    <tr>\n",
        "      <th>2</th>\n",
        "      <td>520.216503</td>\n",
        "      <td>0.160948</td>\n",
        "      <td>2</td>\n",
        "    </tr>\n",
        "    <tr>\n",
        "      <th>3</th>\n",
        "      <td>527.258958</td>\n",
        "      <td>0.158795</td>\n",
        "      <td>3</td>\n",
        "    </tr>\n",
        "    <tr>\n",
        "      <th>4</th>\n",
        "      <td>489.190722</td>\n",
        "      <td>0.138316</td>\n",
        "      <td>4</td>\n",
        "    </tr>\n",
        "    <tr>\n",
        "      <th>5</th>\n",
        "      <td>421.415789</td>\n",
        "      <td>0.273684</td>\n",
        "      <td>5</td>\n",
        "    </tr>\n",
        "    <tr>\n",
        "      <th>6</th>\n",
        "      <td>721.897436</td>\n",
        "      <td>0.320513</td>\n",
        "      <td>6</td>\n",
        "    </tr>\n",
        "  </tbody>\n",
        "</table>\n",
        "</div>"
       ],
       "metadata": {},
       "output_type": "pyout",
       "prompt_number": 10,
       "text": [
        "          WordCount   Popular  day\n",
        "PubDate                           \n",
        "0        524.052288  0.174837    0\n",
        "1        525.400840  0.146218    1\n",
        "2        520.216503  0.160948    2\n",
        "3        527.258958  0.158795    3\n",
        "4        489.190722  0.138316    4\n",
        "5        421.415789  0.273684    5\n",
        "6        721.897436  0.320513    6"
       ]
      }
     ],
     "prompt_number": 10
    },
    {
     "cell_type": "code",
     "collapsed": false,
     "input": [
      "df['saturday'] = (df['day'] == 5).astype(int)\n",
      "df['sunday'] = (df['day'] == 6).astype(int)\n",
      "df['friday'] = (df['day'] == 4).astype(int)\n",
      "df['weekday'] = (df['day'] < 4).astype(int)"
     ],
     "language": "python",
     "metadata": {},
     "outputs": [],
     "prompt_number": 11
    },
    {
     "cell_type": "markdown",
     "metadata": {},
     "source": [
      "Manually identifying major categories"
     ]
    },
    {
     "cell_type": "code",
     "collapsed": false,
     "input": [
      "df['c1'] = ((df['NewsDesk'] == 'Business') & (df['SectionName'] == 'Business Day') & (df['SubsectionName'] == 'Dealbook')).astype(int)\n",
      "df['c2'] = ((df['NewsDesk'] == 'Business') & (df['SectionName'] == 'Business Day') & (df['SubsectionName'] == 'Small Business')).astype(int)\n",
      "df['c3'] = ((df['NewsDesk'] == 'Business') & (df['SectionName'] == 'Crosswords/Games')).astype(int)\n",
      "df['c4'] = ((df['NewsDesk'] == 'Business') & (df['SectionName'] == 'Technology')).astype(int)\n",
      "df['c5'] = ((df['NewsDesk'] == 'Styles') & (df['SectionName'] == 'U.S.')).astype(int)\n",
      "df['c6'] = (df['NewsDesk'] == 'TStyle').astype(int)\n",
      "df['c7'] = (df['NewsDesk'] == 'Culture').astype(int)\n",
      "df['c8'] = (df['NewsDesk'] == 'OpEd').astype(int)\n",
      "df['c9'] = (df['NewsDesk'] == 'Foreign').astype(int)\n",
      "df['c10'] = (df['NewsDesk'] == 'Metro').astype(int)\n",
      "df['c11'] = (df['NewsDesk'] == 'Science').astype(int)\n",
      "df['c12'] = (df['NewsDesk'] == 'Travel').astype(int)\n",
      "df['unknown'] = (df['NewsDesk'].isnull()).astype(int)\n",
      "df['other'] = 1 - (df['c1'] + df['c2'] + df['c3'] + df['c4'] + df['c5'] + df['c6'] + df['c7'] + df['c8'] + df['c9'] + df['c10'] + df['c11'] + df['c12'] + df['unknown'])"
     ],
     "language": "python",
     "metadata": {},
     "outputs": [],
     "prompt_number": 12
    },
    {
     "cell_type": "code",
     "collapsed": false,
     "input": [
      "df.WordCount = df.WordCount + 1\n",
      "df.WordCount = np.log(df.WordCount)"
     ],
     "language": "python",
     "metadata": {},
     "outputs": [],
     "prompt_number": 13
    },
    {
     "cell_type": "code",
     "collapsed": false,
     "input": [
      "def f(i):\n",
      "    for j in ['c1', 'c2', 'c3', 'c4', 'c5', 'c6', 'c7', 'c8', 'c9', 'c10', 'c11', 'c12', 'other', 'unknown']:\n",
      "        if i[j] == 1: return j"
     ],
     "language": "python",
     "metadata": {},
     "outputs": [],
     "prompt_number": 14
    },
    {
     "cell_type": "code",
     "collapsed": false,
     "input": [
      "df['category'] = df.apply(f, axis=1)"
     ],
     "language": "python",
     "metadata": {},
     "outputs": [],
     "prompt_number": 15
    },
    {
     "cell_type": "code",
     "collapsed": false,
     "input": [
      "features_full = ['c1', 'c2', 'c3', 'c4', 'c5', 'c6', 'c7', 'c8', 'c9', 'c10', 'c11', 'c12', 'other', 'unknown', 'weekday', 'friday', 'saturday', 'sunday', 'WordCount']"
     ],
     "language": "python",
     "metadata": {},
     "outputs": [],
     "prompt_number": 16
    },
    {
     "cell_type": "code",
     "collapsed": false,
     "input": [
      "features = ['c1', 'c2', 'c3', 'c4', 'c5', 'c6', 'c7', 'c8', 'c9', 'c10', 'c11', 'c12', 'other', 'weekday', 'friday', 'saturday', 'sunday', 'WordCount']"
     ],
     "language": "python",
     "metadata": {},
     "outputs": [],
     "prompt_number": 17
    },
    {
     "cell_type": "code",
     "collapsed": false,
     "input": [
      "class_features = ['WordCount']"
     ],
     "language": "python",
     "metadata": {},
     "outputs": [],
     "prompt_number": 18
    },
    {
     "cell_type": "code",
     "collapsed": false,
     "input": [
      "df.ix[df['Abstract'].isnull(), 'Abstract'] = ''"
     ],
     "language": "python",
     "metadata": {},
     "outputs": [],
     "prompt_number": 19
    },
    {
     "cell_type": "markdown",
     "metadata": {},
     "source": [
      "Vectorizing the headline and abstract, and concatenating a final feature set"
     ]
    },
    {
     "cell_type": "code",
     "collapsed": false,
     "input": [
      "headline_vectorizer = TfidfVectorizer(max_df=0.9, min_df=0.01, stop_words='english', use_idf=True, \n",
      "                             tokenizer = process_text, ngram_range=(1, 3))\n",
      "X_headline = headline_vectorizer.fit_transform(df['Headline'].str.lower().values)\n",
      "X_headline = X_headline.toarray()"
     ],
     "language": "python",
     "metadata": {},
     "outputs": [],
     "prompt_number": 20
    },
    {
     "cell_type": "code",
     "collapsed": false,
     "input": [
      "abstract_vectorizer = TfidfVectorizer(max_df=0.9, min_df=0.01, stop_words='english', use_idf=True, \n",
      "                             tokenizer = process_text, ngram_range=(1, 3))\n",
      "X_abstract = abstract_vectorizer.fit_transform(df['Abstract'].str.lower().values).toarray()"
     ],
     "language": "python",
     "metadata": {},
     "outputs": [],
     "prompt_number": 21
    },
    {
     "cell_type": "code",
     "collapsed": false,
     "input": [
      "class_X = np.concatenate((X_headline, X_abstract, df[class_features].values), axis=1)"
     ],
     "language": "python",
     "metadata": {},
     "outputs": [],
     "prompt_number": 22
    },
    {
     "cell_type": "code",
     "collapsed": false,
     "input": [
      "msk = (df['category'] == 'unknown').values"
     ],
     "language": "python",
     "metadata": {},
     "outputs": [],
     "prompt_number": 23
    },
    {
     "cell_type": "heading",
     "level": 3,
     "metadata": {},
     "source": [
      "Predicting category for 'unknown' variables"
     ]
    },
    {
     "cell_type": "markdown",
     "metadata": {},
     "source": [
      "Preparing the test and training set"
     ]
    },
    {
     "cell_type": "code",
     "collapsed": false,
     "input": [
      "y = df['category'].values"
     ],
     "language": "python",
     "metadata": {},
     "outputs": [],
     "prompt_number": 24
    },
    {
     "cell_type": "code",
     "collapsed": false,
     "input": [
      "X_train = class_X[~msk]\n",
      "X_test = class_X[msk]\n",
      "y_train = y[~msk]"
     ],
     "language": "python",
     "metadata": {},
     "outputs": [],
     "prompt_number": 25
    },
    {
     "cell_type": "code",
     "collapsed": false,
     "input": [
      "X_train.shape"
     ],
     "language": "python",
     "metadata": {},
     "outputs": [
      {
       "metadata": {},
       "output_type": "pyout",
       "prompt_number": 26,
       "text": [
        "(4686, 279)"
       ]
      }
     ],
     "prompt_number": 26
    },
    {
     "cell_type": "code",
     "collapsed": false,
     "input": [
      "X_test.shape"
     ],
     "language": "python",
     "metadata": {},
     "outputs": [
      {
       "metadata": {},
       "output_type": "pyout",
       "prompt_number": 27,
       "text": [
        "(1846, 279)"
       ]
      }
     ],
     "prompt_number": 27
    },
    {
     "cell_type": "markdown",
     "metadata": {},
     "source": [
      "Training the model - cross-validation"
     ]
    },
    {
     "cell_type": "code",
     "collapsed": false,
     "input": [
      "from sklearn.cross_validation import StratifiedKFold"
     ],
     "language": "python",
     "metadata": {},
     "outputs": [
      {
       "output_type": "stream",
       "stream": "stderr",
       "text": [
        "/Library/Frameworks/Python.framework/Versions/2.7/lib/python2.7/site-packages/scipy/spatial/__init__.py:90: RuntimeWarning: numpy.dtype size changed, may indicate binary incompatibility\n",
        "  from .ckdtree import *\n",
        "/Library/Frameworks/Python.framework/Versions/2.7/lib/python2.7/site-packages/scipy/spatial/__init__.py:90: RuntimeWarning: numpy.ufunc size changed, may indicate binary incompatibility\n",
        "  from .ckdtree import *\n",
        "/Library/Frameworks/Python.framework/Versions/2.7/lib/python2.7/site-packages/scipy/spatial/__init__.py:91: RuntimeWarning: numpy.dtype size changed, may indicate binary incompatibility\n",
        "  from .qhull import *\n",
        "/Library/Frameworks/Python.framework/Versions/2.7/lib/python2.7/site-packages/scipy/spatial/__init__.py:91: RuntimeWarning: numpy.ufunc size changed, may indicate binary incompatibility\n",
        "  from .qhull import *\n"
       ]
      }
     ],
     "prompt_number": 28
    },
    {
     "cell_type": "code",
     "collapsed": false,
     "input": [
      "skf = StratifiedKFold(y_train, n_folds = 5, shuffle=True)"
     ],
     "language": "python",
     "metadata": {},
     "outputs": [],
     "prompt_number": 29
    },
    {
     "cell_type": "code",
     "collapsed": false,
     "input": [
      "from sklearn.ensemble import RandomForestClassifier, AdaBoostClassifier, GradientBoostingClassifier"
     ],
     "language": "python",
     "metadata": {},
     "outputs": [],
     "prompt_number": 30
    },
    {
     "cell_type": "code",
     "collapsed": false,
     "input": [
      "best_res = 0\n",
      "best_mod = None"
     ],
     "language": "python",
     "metadata": {},
     "outputs": [],
     "prompt_number": 31
    },
    {
     "cell_type": "markdown",
     "metadata": {},
     "source": [
      "Trying the RandomForest Classifier"
     ]
    },
    {
     "cell_type": "code",
     "collapsed": false,
     "input": [
      "for train_index, test_index in skf:\n",
      "    X_cv_train, X_cv_test = X_train[train_index], X_train[test_index]\n",
      "    y_cv_train, y_cv_test = y_train[train_index], y_train[test_index]\n",
      "    mod = RandomForestClassifier(n_estimators=150, max_depth = 15, \n",
      "                                 min_samples_split=20).fit(X_cv_train, y_cv_train)\n",
      "    #pred = mod.predict_proba(X_test.toarray())\n",
      "    #fpr, tpr, thresholds = roc_curve(y_test, pred[:,0], pos_label=0)\n",
      "    #print auc(fpr, tpr)\n",
      "    train_score = mod.score(X_cv_train, y_cv_train)\n",
      "    test_score = mod.score(X_cv_test, y_cv_test)\n",
      "    print train_score, test_score\n",
      "    if test_score > best_res:\n",
      "        best_mod = mod"
     ],
     "language": "python",
     "metadata": {},
     "outputs": [
      {
       "output_type": "stream",
       "stream": "stdout",
       "text": [
        "0.629708789741 0.582184517497\n",
        "0.627602776295"
       ]
      },
      {
       "output_type": "stream",
       "stream": "stdout",
       "text": [
        " 0.612765957447\n",
        "0.627733333333"
       ]
      },
      {
       "output_type": "stream",
       "stream": "stdout",
       "text": [
        " 0.589743589744\n",
        "0.639296187683"
       ]
      },
      {
       "output_type": "stream",
       "stream": "stdout",
       "text": [
        " 0.561497326203\n",
        "0.628662759723"
       ]
      },
      {
       "output_type": "stream",
       "stream": "stdout",
       "text": [
        " 0.589055793991\n"
       ]
      }
     ],
     "prompt_number": 32
    },
    {
     "cell_type": "code",
     "collapsed": false,
     "input": [
      "for train_index, test_index in skf:\n",
      "    X_cv_train, X_cv_test = X_train[train_index], X_train[test_index]\n",
      "    y_cv_train, y_cv_test = y_train[train_index], y_train[test_index]\n",
      "    mod = RandomForestClassifier(n_estimators=150, max_depth = 15, \n",
      "                                 criterion = \"entropy\", min_samples_split=20).fit(X_cv_train, y_cv_train)\n",
      "    #pred = mod.predict_proba(X_test.toarray())\n",
      "    #fpr, tpr, thresholds = roc_curve(y_test, pred[:,0], pos_label=0)\n",
      "    #print auc(fpr, tpr)\n",
      "    train_score = mod.score(X_cv_train, y_cv_train)\n",
      "    test_score = mod.score(X_cv_test, y_cv_test)\n",
      "    print train_score, test_score\n",
      "    if test_score > best_res:\n",
      "        best_mod = mod"
     ],
     "language": "python",
     "metadata": {},
     "outputs": [
      {
       "output_type": "stream",
       "stream": "stdout",
       "text": [
        "0.657761154154 0.592788971368\n",
        "0.655365723438"
       ]
      },
      {
       "output_type": "stream",
       "stream": "stdout",
       "text": [
        " 0.626595744681\n",
        "0.651733333333"
       ]
      },
      {
       "output_type": "stream",
       "stream": "stdout",
       "text": [
        " 0.603632478632\n",
        "0.656091708878"
       ]
      },
      {
       "output_type": "stream",
       "stream": "stdout",
       "text": [
        " 0.574331550802\n",
        "0.663292488013"
       ]
      },
      {
       "output_type": "stream",
       "stream": "stdout",
       "text": [
        " 0.603004291845\n"
       ]
      }
     ],
     "prompt_number": 33
    },
    {
     "cell_type": "markdown",
     "metadata": {},
     "source": [
      "Trying the AdaBoost classifier"
     ]
    },
    {
     "cell_type": "code",
     "collapsed": false,
     "input": [
      "for train_index, test_index in skf:\n",
      "    X_cv_train, X_cv_test = X_train[train_index], X_train[test_index]\n",
      "    y_cv_train, y_cv_test = y_train[train_index], y_train[test_index]\n",
      "    mod = AdaBoostClassifier(n_estimators=250, learning_rate = 0.4).fit(X_cv_train, y_cv_train)\n",
      "    #pred = mod.predict_proba(X_test.toarray())\n",
      "    #fpr, tpr, thresholds = roc_curve(y_test, pred[:,0], pos_label=0)\n",
      "    #print auc(fpr, tpr)\n",
      "    train_score = mod.score(X_cv_train, y_cv_train)\n",
      "    test_score = mod.score(X_cv_test, y_cv_test)\n",
      "    print train_score, test_score\n",
      "    if test_score > best_res:\n",
      "        best_mod = mod"
     ],
     "language": "python",
     "metadata": {},
     "outputs": [
      {
       "output_type": "stream",
       "stream": "stdout",
       "text": [
        "0.488378306172 0.463414634146\n",
        "0.455953016551"
       ]
      },
      {
       "output_type": "stream",
       "stream": "stdout",
       "text": [
        " 0.467021276596\n",
        "0.4736"
       ]
      },
      {
       "output_type": "stream",
       "stream": "stdout",
       "text": [
        " 0.436965811966\n",
        "0.463343108504"
       ]
      },
      {
       "output_type": "stream",
       "stream": "stdout",
       "text": [
        " 0.456684491979\n",
        "0.457645178476"
       ]
      },
      {
       "output_type": "stream",
       "stream": "stdout",
       "text": [
        " 0.434549356223\n"
       ]
      }
     ],
     "prompt_number": 34
    },
    {
     "cell_type": "markdown",
     "metadata": {},
     "source": [
      "Tried the GradientBoostingClassifier - very slow and not very useful. Selecting the RF classifier as basis for model."
     ]
    },
    {
     "cell_type": "code",
     "collapsed": false,
     "input": [
      "y_test_class = best_mod.predict(X_test)"
     ],
     "language": "python",
     "metadata": {},
     "outputs": [],
     "prompt_number": 35
    },
    {
     "cell_type": "heading",
     "level": 3,
     "metadata": {},
     "source": [
      "Predicting popularity"
     ]
    },
    {
     "cell_type": "code",
     "collapsed": false,
     "input": [
      "X = np.concatenate((X_headline, X_abstract, df[features].values), axis=1)\n",
      "y = df['Popular'].values"
     ],
     "language": "python",
     "metadata": {},
     "outputs": [],
     "prompt_number": 36
    },
    {
     "cell_type": "code",
     "collapsed": false,
     "input": [
      "pd.DataFrame(np.concatenate((X, np.reshape(y, (6532,1))), axis=1)).to_csv('feature_set.csv')"
     ],
     "language": "python",
     "metadata": {},
     "outputs": [],
     "prompt_number": 37
    },
    {
     "cell_type": "code",
     "collapsed": false,
     "input": [
      "X = X[~msk]\n",
      "y = y[~msk]"
     ],
     "language": "python",
     "metadata": {},
     "outputs": [],
     "prompt_number": 38
    },
    {
     "cell_type": "code",
     "collapsed": false,
     "input": [
      "from sklearn.decomposition import PCA"
     ],
     "language": "python",
     "metadata": {},
     "outputs": [
      {
       "output_type": "stream",
       "stream": "stderr",
       "text": [
        "/Library/Frameworks/Python.framework/Versions/2.7/lib/python2.7/site-packages/scipy/interpolate/interpolate.py:28: RuntimeWarning: numpy.dtype size changed, may indicate binary incompatibility\n",
        "  from . import _ppoly\n",
        "/Library/Frameworks/Python.framework/Versions/2.7/lib/python2.7/site-packages/scipy/interpolate/interpolate.py:28: RuntimeWarning: numpy.ufunc size changed, may indicate binary incompatibility\n",
        "  from . import _ppoly\n"
       ]
      }
     ],
     "prompt_number": 39
    },
    {
     "cell_type": "code",
     "collapsed": false,
     "input": [
      "reduced_data = PCA(n_components=2).fit_transform(X)\n",
      "plt.plot(reduced_data[:, 0], reduced_data[:, 1], 'k.', markersize=2, alpha=0.1)\n",
      "#plt.xlim(xmin=-3000, xmax=1000)\n",
      "plt.show()"
     ],
     "language": "python",
     "metadata": {},
     "outputs": [
      {
       "metadata": {},
       "output_type": "display_data",
       "png": "[encoded data removed]",
       "text": [
        "<matplotlib.figure.Figure at 0x10a54db10>"
       ]
      }
     ],
     "prompt_number": 40
    },
    {
     "cell_type": "code",
     "collapsed": false,
     "input": [
      "skf = StratifiedKFold(y, n_folds = 5, shuffle=True)"
     ],
     "language": "python",
     "metadata": {},
     "outputs": [],
     "prompt_number": 41
    },
    {
     "cell_type": "code",
     "collapsed": false,
     "input": [
      "from sklearn.metrics import auc, roc_curve"
     ],
     "language": "python",
     "metadata": {},
     "outputs": [],
     "prompt_number": 42
    },
    {
     "cell_type": "code",
     "collapsed": false,
     "input": [
      "from sklearn.ensemble import AdaBoostClassifier"
     ],
     "language": "python",
     "metadata": {},
     "outputs": [],
     "prompt_number": 43
    },
    {
     "cell_type": "code",
     "collapsed": false,
     "input": [
      "for train_index, test_index in skf:\n",
      "    X_train, X_test = X[train_index], X[test_index]\n",
      "    y_train, y_test = y[train_index], y[test_index]\n",
      "    mod = AdaBoostClassifier(n_estimators=150, learning_rate = 0.1).fit(X_train, y_train)\n",
      "    pred = mod.predict_proba(X_test)\n",
      "    fpr, tpr, thresholds = roc_curve(y_test, pred[:,0], pos_label=0)\n",
      "    test_auc = auc(fpr, tpr)\n",
      "    \n",
      "    trainpred = mod.predict_proba(X_train)\n",
      "    t_fpr, t_tpr, t_thresholds = roc_curve(y_train, trainpred[:,0], pos_label=0)\n",
      "    print 'test', test_auc, 'train', auc(t_fpr, t_tpr)"
     ],
     "language": "python",
     "metadata": {},
     "outputs": [
      {
       "output_type": "stream",
       "stream": "stdout",
       "text": [
        "test 0.948454256032 train 0.94125710179\n",
        "test"
       ]
      },
      {
       "output_type": "stream",
       "stream": "stdout",
       "text": [
        " 0.917898933199 train 0.948247914654\n",
        "test"
       ]
      },
      {
       "output_type": "stream",
       "stream": "stdout",
       "text": [
        " 0.942945271816 train 0.944048476616\n",
        "test"
       ]
      },
      {
       "output_type": "stream",
       "stream": "stdout",
       "text": [
        " 0.943934842721 train 0.942145176015\n",
        "test"
       ]
      },
      {
       "output_type": "stream",
       "stream": "stdout",
       "text": [
        " 0.920875645666 train 0.94633541639\n"
       ]
      }
     ],
     "prompt_number": 205
    },
    {
     "cell_type": "code",
     "collapsed": false,
     "input": [
      "mod_known_gradboost = None\n",
      "best_auc = 0"
     ],
     "language": "python",
     "metadata": {},
     "outputs": [],
     "prompt_number": 206
    },
    {
     "cell_type": "code",
     "collapsed": false,
     "input": [
      "for train_index, test_index in skf:\n",
      "    X_train, X_test = X[train_index], X[test_index]\n",
      "    y_train, y_test = y[train_index], y[test_index]\n",
      "    mod = GradientBoostingClassifier(n_estimators=150, learning_rate = 0.1, max_depth = 5,\n",
      "                                     min_samples_split = 300, min_samples_leaf = 75).fit(X_train, y_train)\n",
      "    pred = mod.predict_proba(X_test)\n",
      "    fpr, tpr, thresholds = roc_curve(y_test, pred[:,0], pos_label=0)\n",
      "    test_auc = auc(fpr, tpr)\n",
      "    \n",
      "    trainpred = mod.predict_proba(X_train)\n",
      "    t_fpr, t_tpr, t_thresholds = roc_curve(y_train, trainpred[:,0], pos_label=0)\n",
      "    print 'test', test_auc, 'train', auc(t_fpr, t_tpr)\n",
      "    if test_auc > best_auc:\n",
      "        mod_known_gradboost = mod\n",
      "        best_auc = test_auc"
     ],
     "language": "python",
     "metadata": {},
     "outputs": [
      {
       "output_type": "stream",
       "stream": "stdout",
       "text": [
        "test 0.961380836685 train 0.964680685102\n",
        "test"
       ]
      },
      {
       "output_type": "stream",
       "stream": "stdout",
       "text": [
        " 0.928148039544 train 0.970863433093\n",
        "test"
       ]
      },
      {
       "output_type": "stream",
       "stream": "stdout",
       "text": [
        " 0.946980756004 train 0.967053512113\n",
        "test"
       ]
      },
      {
       "output_type": "stream",
       "stream": "stdout",
       "text": [
        " 0.953711241806 train 0.966044093204\n",
        "test"
       ]
      },
      {
       "output_type": "stream",
       "stream": "stdout",
       "text": [
        " 0.929038265575 train 0.969897985076\n"
       ]
      }
     ],
     "prompt_number": 208
    },
    {
     "cell_type": "code",
     "collapsed": false,
     "input": [
      "pred_known = mod_known_gradboost.predict_proba(X)"
     ],
     "language": "python",
     "metadata": {},
     "outputs": [],
     "prompt_number": 209
    },
    {
     "cell_type": "code",
     "collapsed": false,
     "input": [
      "X = X[msk]\n",
      "y = y[msk]"
     ],
     "language": "python",
     "metadata": {},
     "outputs": [],
     "prompt_number": 213
    },
    {
     "cell_type": "code",
     "collapsed": false,
     "input": [
      "reduced_data = PCA(n_components=2).fit_transform(X)\n",
      "plt.plot(reduced_data[:, 0], reduced_data[:, 1], 'k.', markersize=2, alpha=0.2)\n",
      "#plt.xlim(xmin=-3000, xmax=1000)\n",
      "plt.show()"
     ],
     "language": "python",
     "metadata": {},
     "outputs": [
      {
       "metadata": {},
       "output_type": "display_data",
       "png": "[encoded data removed]",
       "text": [
        "<matplotlib.figure.Figure at 0x109840650>"
       ]
      }
     ],
     "prompt_number": 214
    },
    {
     "cell_type": "code",
     "collapsed": false,
     "input": [
      "skf = StratifiedKFold(y, n_folds = 5, shuffle=True)"
     ],
     "language": "python",
     "metadata": {},
     "outputs": [],
     "prompt_number": 215
    },
    {
     "cell_type": "code",
     "collapsed": false,
     "input": [
      "for train_index, test_index in skf:\n",
      "    X_train, X_test = X[train_index], X[test_index]\n",
      "    y_train, y_test = y[train_index], y[test_index]\n",
      "    mod = AdaBoostClassifier(n_estimators=30, learning_rate = 0.1).fit(X_train, y_train)\n",
      "    pred = mod.predict_proba(X_test)\n",
      "    fpr, tpr, thresholds = roc_curve(y_test, pred[:,0], pos_label=0)\n",
      "    test_auc = auc(fpr, tpr)\n",
      "    \n",
      "    trainpred = mod.predict_proba(X_train)\n",
      "    t_fpr, t_tpr, t_thresholds = roc_curve(y_train, trainpred[:,0], pos_label=0)\n",
      "    print 'test', test_auc, 'train', auc(t_fpr, t_tpr)"
     ],
     "language": "python",
     "metadata": {},
     "outputs": [
      {
       "output_type": "stream",
       "stream": "stdout",
       "text": [
        "test 0.893535923141 train 0.903241417587\n",
        "test"
       ]
      },
      {
       "output_type": "stream",
       "stream": "stdout",
       "text": [
        " 0.875676846437 train 0.903948039058\n",
        "test"
       ]
      },
      {
       "output_type": "stream",
       "stream": "stdout",
       "text": [
        " 0.928687459389 train 0.910537045979\n",
        "test"
       ]
      },
      {
       "output_type": "stream",
       "stream": "stdout",
       "text": [
        " 0.842971626597 train 0.896782284457\n",
        "test"
       ]
      },
      {
       "output_type": "stream",
       "stream": "stdout",
       "text": [
        " 0.867392246047 train 0.916686785772\n"
       ]
      }
     ],
     "prompt_number": 216
    },
    {
     "cell_type": "code",
     "collapsed": false,
     "input": [
      "mod_unknown_gradboost = None\n",
      "best_auc = 0"
     ],
     "language": "python",
     "metadata": {},
     "outputs": [],
     "prompt_number": 217
    },
    {
     "cell_type": "code",
     "collapsed": false,
     "input": [
      "for train_index, test_index in skf:\n",
      "    X_train, X_test = X[train_index], X[test_index]\n",
      "    y_train, y_test = y[train_index], y[test_index]\n",
      "    mod = GradientBoostingClassifier(n_estimators=100, learning_rate = 0.1, max_depth = 3,\n",
      "                                     min_samples_split = 200, min_samples_leaf = 40).fit(X_train, y_train)\n",
      "    pred = mod.predict_proba(X_test)\n",
      "    fpr, tpr, thresholds = roc_curve(y_test, pred[:,0], pos_label=0)\n",
      "    test_auc = auc(fpr, tpr)\n",
      "    \n",
      "    trainpred = mod.predict_proba(X_train)\n",
      "    t_fpr, t_tpr, t_thresholds = roc_curve(y_train, trainpred[:,0], pos_label=0)\n",
      "    print 'test', test_auc, 'train', auc(t_fpr, t_tpr)\n",
      "    \n",
      "    if test_auc > best_auc:\n",
      "        mod_unknown_gradboost = mod\n",
      "        best_auc = test_auc"
     ],
     "language": "python",
     "metadata": {},
     "outputs": [
      {
       "output_type": "stream",
       "stream": "stdout",
       "text": [
        "test 0.891029657477 train 0.948728882391\n",
        "test"
       ]
      },
      {
       "output_type": "stream",
       "stream": "stdout",
       "text": [
        " 0.890675763483 train 0.95185498149\n",
        "test"
       ]
      },
      {
       "output_type": "stream",
       "stream": "stdout",
       "text": [
        " 0.915204678363 train 0.949967138795\n",
        "test"
       ]
      },
      {
       "output_type": "stream",
       "stream": "stdout",
       "text": [
        " 0.842267706303 train 0.956918289608\n",
        "test"
       ]
      },
      {
       "output_type": "stream",
       "stream": "stdout",
       "text": [
        " 0.864955598874 train 0.955167927464\n"
       ]
      }
     ],
     "prompt_number": 220
    },
    {
     "cell_type": "code",
     "collapsed": false,
     "input": [
      "pred_unknown = mod_unknown_gradboost.predict_proba(X)"
     ],
     "language": "python",
     "metadata": {},
     "outputs": [],
     "prompt_number": 221
    },
    {
     "cell_type": "code",
     "collapsed": false,
     "input": [
      "df.loc[msk, 'Probability1'] = pred_unknown[:,1]"
     ],
     "language": "python",
     "metadata": {},
     "outputs": [],
     "prompt_number": 222
    },
    {
     "cell_type": "code",
     "collapsed": false,
     "input": [
      "df.loc[~msk, 'Probability1'] = pred_known[:,1]"
     ],
     "language": "python",
     "metadata": {},
     "outputs": [],
     "prompt_number": 223
    },
    {
     "cell_type": "code",
     "collapsed": false,
     "input": [
      "fpr, tpr, thresholds = roc_curve(df.Popular, df.Probability1, pos_label=1)\n",
      "print auc(fpr, tpr)"
     ],
     "language": "python",
     "metadata": {},
     "outputs": [
      {
       "output_type": "stream",
       "stream": "stdout",
       "text": [
        "0.962873688334\n"
       ]
      }
     ],
     "prompt_number": 224
    },
    {
     "cell_type": "heading",
     "level": 3,
     "metadata": {},
     "source": [
      "Trying an unclustered model"
     ]
    },
    {
     "cell_type": "code",
     "collapsed": false,
     "input": [
      "X = np.concatenate((X_headline, X_abstract, df[features_full].values), axis=1)\n",
      "y = df['Popular'].values"
     ],
     "language": "python",
     "metadata": {},
     "outputs": [],
     "prompt_number": 251
    },
    {
     "cell_type": "code",
     "collapsed": false,
     "input": [
      "reduced_data = PCA(n_components=2).fit_transform(X)\n",
      "plt.plot(reduced_data[:, 0], reduced_data[:, 1], 'k.', markersize=2, alpha=0.1)\n",
      "#plt.xlim(xmin=-3000, xmax=1000)\n",
      "plt.show()"
     ],
     "language": "python",
     "metadata": {},
     "outputs": [
      {
       "metadata": {},
       "output_type": "display_data",
       "png": "[encoded data removed]",
       "text": [
        "<matplotlib.figure.Figure at 0x1097824d0>"
       ]
      }
     ],
     "prompt_number": 252
    },
    {
     "cell_type": "code",
     "collapsed": false,
     "input": [
      "skf = StratifiedKFold(y, n_folds = 5, shuffle=True)"
     ],
     "language": "python",
     "metadata": {},
     "outputs": [],
     "prompt_number": 253
    },
    {
     "cell_type": "code",
     "collapsed": false,
     "input": [
      "mod_unknown_gradboost = None\n",
      "best_auc = 0"
     ],
     "language": "python",
     "metadata": {},
     "outputs": [],
     "prompt_number": 254
    },
    {
     "cell_type": "code",
     "collapsed": false,
     "input": [
      "for train_index, test_index in skf:\n",
      "    X_train, X_test = X[train_index], X[test_index]\n",
      "    y_train, y_test = y[train_index], y[test_index]\n",
      "    mod = GradientBoostingClassifier(n_estimators=150, learning_rate = 0.1, max_depth = 5,\n",
      "                                     min_samples_split = 300, min_samples_leaf = 75).fit(X_train, y_train)\n",
      "    pred = mod.predict_proba(X_test)\n",
      "    fpr, tpr, thresholds = roc_curve(y_test, pred[:,0], pos_label=0)\n",
      "    test_auc = auc(fpr, tpr)\n",
      "    \n",
      "    trainpred = mod.predict_proba(X_train)\n",
      "    t_fpr, t_tpr, t_thresholds = roc_curve(y_train, trainpred[:,0], pos_label=0)\n",
      "    print 'test', test_auc, 'train', auc(t_fpr, t_tpr)\n",
      "    if test_auc > best_auc:\n",
      "        mod_known_gradboost = mod\n",
      "        best_auc = test_auc"
     ],
     "language": "python",
     "metadata": {},
     "outputs": [
      {
       "output_type": "stream",
       "stream": "stdout",
       "text": [
        "test 0.933059696481 train 0.961091692538\n",
        "test"
       ]
      },
      {
       "output_type": "stream",
       "stream": "stdout",
       "text": [
        " 0.935934562181 train 0.96134190462\n",
        "test"
       ]
      },
      {
       "output_type": "stream",
       "stream": "stdout",
       "text": [
        " 0.949633192318 train 0.958602325565\n",
        "test"
       ]
      },
      {
       "output_type": "stream",
       "stream": "stdout",
       "text": [
        " 0.92811909741 train 0.962789769183\n",
        "test"
       ]
      },
      {
       "output_type": "stream",
       "stream": "stdout",
       "text": [
        " 0.930515348193 train 0.96260674895\n"
       ]
      }
     ],
     "prompt_number": 255
    },
    {
     "cell_type": "heading",
     "level": 3,
     "metadata": {},
     "source": [
      "Playing with the test dataset"
     ]
    },
    {
     "cell_type": "code",
     "collapsed": false,
     "input": [
      "test_df = pd.read_csv('NYTimesBlogTest.csv', index_col=8)"
     ],
     "language": "python",
     "metadata": {},
     "outputs": [],
     "prompt_number": 256
    },
    {
     "cell_type": "code",
     "collapsed": false,
     "input": [
      "test_df['PubDate'] = pd.to_datetime(test_df['PubDate'])\n",
      "test_df['day'] = test_df['PubDate'].map(lambda x: x.weekday())\n",
      "test_df['saturday'] = (test_df['day'] == 5).astype(int)\n",
      "test_df['sunday'] = (test_df['day'] == 6).astype(int)\n",
      "test_df['friday'] = (test_df['day'] == 4).astype(int)\n",
      "test_df['weekday'] = (test_df['day'] < 4).astype(int)"
     ],
     "language": "python",
     "metadata": {},
     "outputs": [],
     "prompt_number": 257
    },
    {
     "cell_type": "code",
     "collapsed": false,
     "input": [
      "test_df['c1'] = ((test_df['NewsDesk'] == 'Business') & (test_df['SectionName'] == 'Business Day') & (test_df['SubsectionName'] == 'Dealbook')).astype(int)\n",
      "test_df['c2'] = ((test_df['NewsDesk'] == 'Business') & (test_df['SectionName'] == 'Business Day') & (test_df['SubsectionName'] == 'Small Business')).astype(int)\n",
      "test_df['c3'] = ((test_df['NewsDesk'] == 'Business') & (test_df['SectionName'] == 'Crosswords/Games')).astype(int)\n",
      "test_df['c4'] = ((test_df['NewsDesk'] == 'Business') & (test_df['SectionName'] == 'Technology')).astype(int)\n",
      "test_df['c5'] = ((test_df['NewsDesk'] == 'Styles') & (test_df['SectionName'] == 'U.S.')).astype(int)\n",
      "test_df['c6'] = (test_df['NewsDesk'] == 'TStyle').astype(int)\n",
      "test_df['c7'] = (test_df['NewsDesk'] == 'Culture').astype(int)\n",
      "test_df['c8'] = (test_df['NewsDesk'] == 'OpEd').astype(int)\n",
      "test_df['c9'] = (test_df['NewsDesk'] == 'Foreign').astype(int)\n",
      "test_df['c10'] = (test_df['NewsDesk'] == 'Metro').astype(int)\n",
      "test_df['c11'] = (test_df['NewsDesk'] == 'Science').astype(int)\n",
      "test_df['c12'] = (test_df['NewsDesk'] == 'Travel').astype(int)\n",
      "test_df['unknown'] = (test_df['NewsDesk'].isnull()).astype(int)\n",
      "test_df['other'] = 1 - (test_df['c1'] + test_df['c2'] + test_df['c3'] + test_df['c4'] + test_df['c5'] + test_df['c6'] + test_df['c7'] + test_df['c8'] + test_df['c9'] + test_df['c10'] + test_df['c11'] + test_df['c12'] + test_df['unknown'])"
     ],
     "language": "python",
     "metadata": {},
     "outputs": [],
     "prompt_number": 258
    },
    {
     "cell_type": "code",
     "collapsed": false,
     "input": [
      "test_df['category'] = test_df.apply(f, axis=1)"
     ],
     "language": "python",
     "metadata": {},
     "outputs": [],
     "prompt_number": 259
    },
    {
     "cell_type": "code",
     "collapsed": false,
     "input": [
      "test_df.WordCount = test_df.WordCount + 1\n",
      "test_df.WordCount = np.log(test_df.WordCount)"
     ],
     "language": "python",
     "metadata": {},
     "outputs": [],
     "prompt_number": 260
    },
    {
     "cell_type": "code",
     "collapsed": false,
     "input": [
      "X_test = np.concatenate((test_X_headline, test_X_abstract, test_df[features_full].values), axis=1)"
     ],
     "language": "python",
     "metadata": {},
     "outputs": [],
     "prompt_number": 262
    },
    {
     "cell_type": "code",
     "collapsed": false,
     "input": [
      "test_df['Probability1'] = mod_known_gradboost.predict_proba(X_test)[:,1]"
     ],
     "language": "python",
     "metadata": {},
     "outputs": [],
     "prompt_number": 273
    },
    {
     "cell_type": "code",
     "collapsed": false,
     "input": [
      "msk = (test_df['category'] == 'unknown').values"
     ],
     "language": "python",
     "metadata": {},
     "outputs": [],
     "prompt_number": 230
    },
    {
     "cell_type": "code",
     "collapsed": false,
     "input": [
      "test_df.ix[test_df['Abstract'].isnull(), 'Abstract'] = ''"
     ],
     "language": "python",
     "metadata": {},
     "outputs": [],
     "prompt_number": 231
    },
    {
     "cell_type": "code",
     "collapsed": false,
     "input": [
      "test_X_headline = headline_vectorizer.transform(test_df['Headline'].str.lower().values).toarray()"
     ],
     "language": "python",
     "metadata": {},
     "outputs": [],
     "prompt_number": 232
    },
    {
     "cell_type": "code",
     "collapsed": false,
     "input": [
      "test_X_abstract = abstract_vectorizer.transform(test_df['Abstract'].str.lower().values).toarray()"
     ],
     "language": "python",
     "metadata": {},
     "outputs": [],
     "prompt_number": 233
    },
    {
     "cell_type": "code",
     "collapsed": false,
     "input": [
      "X_test = np.concatenate((test_X_headline, test_X_abstract, test_df[features].values), axis=1)"
     ],
     "language": "python",
     "metadata": {},
     "outputs": [],
     "prompt_number": 234
    },
    {
     "cell_type": "code",
     "collapsed": false,
     "input": [
      "pd.DataFrame(X_test).to_csv('test_set.csv')"
     ],
     "language": "python",
     "metadata": {},
     "outputs": [],
     "prompt_number": 35
    },
    {
     "cell_type": "code",
     "collapsed": false,
     "input": [
      "pred_known = mod_known_gradboost.predict_proba(X_test[~msk])"
     ],
     "language": "python",
     "metadata": {},
     "outputs": [],
     "prompt_number": 235
    },
    {
     "cell_type": "code",
     "collapsed": false,
     "input": [
      "pred_unknown = mod_unknown_gradboost.predict_proba(X_test[msk])"
     ],
     "language": "python",
     "metadata": {},
     "outputs": [],
     "prompt_number": 236
    },
    {
     "cell_type": "code",
     "collapsed": false,
     "input": [
      "test_df.loc[~msk, 'Probability1'] = pred_known[:,1]\n",
      "test_df.loc[msk, 'Probability1'] = pred_unknown[:,1]"
     ],
     "language": "python",
     "metadata": {},
     "outputs": [],
     "prompt_number": 237
    },
    {
     "cell_type": "code",
     "collapsed": false,
     "input": [
      "test_df[['Probability1']].describe()"
     ],
     "language": "python",
     "metadata": {},
     "outputs": [
      {
       "html": [
        "<div style=\"max-height:1000px;max-width:1500px;overflow:auto;\">\n",
        "<table border=\"1\" class=\"dataframe\">\n",
        "  <thead>\n",
        "    <tr style=\"text-align: right;\">\n",
        "      <th></th>\n",
        "      <th>Probability1</th>\n",
        "    </tr>\n",
        "  </thead>\n",
        "  <tbody>\n",
        "    <tr>\n",
        "      <th>count</th>\n",
        "      <td>1870.000000</td>\n",
        "    </tr>\n",
        "    <tr>\n",
        "      <th>mean</th>\n",
        "      <td>0.178680</td>\n",
        "    </tr>\n",
        "    <tr>\n",
        "      <th>std</th>\n",
        "      <td>0.271815</td>\n",
        "    </tr>\n",
        "    <tr>\n",
        "      <th>min</th>\n",
        "      <td>0.001755</td>\n",
        "    </tr>\n",
        "    <tr>\n",
        "      <th>25%</th>\n",
        "      <td>0.011859</td>\n",
        "    </tr>\n",
        "    <tr>\n",
        "      <th>50%</th>\n",
        "      <td>0.038061</td>\n",
        "    </tr>\n",
        "    <tr>\n",
        "      <th>75%</th>\n",
        "      <td>0.203655</td>\n",
        "    </tr>\n",
        "    <tr>\n",
        "      <th>max</th>\n",
        "      <td>0.962587</td>\n",
        "    </tr>\n",
        "  </tbody>\n",
        "</table>\n",
        "</div>"
       ],
       "metadata": {},
       "output_type": "pyout",
       "prompt_number": 274,
       "text": [
        "       Probability1\n",
        "count   1870.000000\n",
        "mean       0.178680\n",
        "std        0.271815\n",
        "min        0.001755\n",
        "25%        0.011859\n",
        "50%        0.038061\n",
        "75%        0.203655\n",
        "max        0.962587"
       ]
      }
     ],
     "prompt_number": 274
    },
    {
     "cell_type": "code",
     "collapsed": false,
     "input": [
      "test_df[['Probability1']].to_csv('pred_gradboost_3gram_log_wc.csv')"
     ],
     "language": "python",
     "metadata": {},
     "outputs": [],
     "prompt_number": 275
    },
    {
     "cell_type": "code",
     "collapsed": false,
     "input": [
      "another_df = pd.read_csv('pred_xgboost_gradboost_ensemble.csv', index_col=0)"
     ],
     "language": "python",
     "metadata": {},
     "outputs": [],
     "prompt_number": 240
    },
    {
     "cell_type": "code",
     "collapsed": false,
     "input": [
      "another_vals = another_df[msk].values"
     ],
     "language": "python",
     "metadata": {},
     "outputs": [],
     "prompt_number": 241
    },
    {
     "cell_type": "code",
     "collapsed": false,
     "input": [
      "test_df.loc[msk, 'Probability1'] = another_vals"
     ],
     "language": "python",
     "metadata": {},
     "outputs": [],
     "prompt_number": 242
    },
    {
     "cell_type": "code",
     "collapsed": false,
     "input": [
      "another_vals_2 = another_df[~msk].values"
     ],
     "language": "python",
     "metadata": {},
     "outputs": [],
     "prompt_number": 243
    },
    {
     "cell_type": "code",
     "collapsed": false,
     "input": [
      "test_df[~msk].Probability1.values"
     ],
     "language": "python",
     "metadata": {},
     "outputs": [
      {
       "metadata": {},
       "output_type": "pyout",
       "prompt_number": 244,
       "text": [
        "array([ 0.03244265,  0.05045978,  0.96539299, ...,  0.0380228 ,\n",
        "        0.03505175,  0.84640528])"
       ]
      }
     ],
     "prompt_number": 244
    },
    {
     "cell_type": "code",
     "collapsed": false,
     "input": [
      "another_vals_2 = [i[0] for i in another_vals_2]"
     ],
     "language": "python",
     "metadata": {},
     "outputs": [],
     "prompt_number": 245
    },
    {
     "cell_type": "code",
     "collapsed": false,
     "input": [
      "(another_vals_2 + test_df[~msk].Probability1.values)/2"
     ],
     "language": "python",
     "metadata": {},
     "outputs": [
      {
       "metadata": {},
       "output_type": "pyout",
       "prompt_number": 246,
       "text": [
        "array([ 0.03143492,  0.09028266,  0.90859844, ...,  0.0498451 ,\n",
        "        0.03361984,  0.75821309])"
       ]
      }
     ],
     "prompt_number": 246
    },
    {
     "cell_type": "code",
     "collapsed": false,
     "input": [
      "test_df.loc[~msk, 'Probability1'] = (another_vals_2 + test_df[~msk].Probability1.values)/2"
     ],
     "language": "python",
     "metadata": {},
     "outputs": [],
     "prompt_number": 247
    },
    {
     "cell_type": "code",
     "collapsed": false,
     "input": [
      "test_df[['Probability1']].describe()"
     ],
     "language": "python",
     "metadata": {},
     "outputs": [
      {
       "html": [
        "<div style=\"max-height:1000px;max-width:1500px;overflow:auto;\">\n",
        "<table border=\"1\" class=\"dataframe\">\n",
        "  <thead>\n",
        "    <tr style=\"text-align: right;\">\n",
        "      <th></th>\n",
        "      <th>Probability1</th>\n",
        "    </tr>\n",
        "  </thead>\n",
        "  <tbody>\n",
        "    <tr>\n",
        "      <th>count</th>\n",
        "      <td>1870.000000</td>\n",
        "    </tr>\n",
        "    <tr>\n",
        "      <th>mean</th>\n",
        "      <td>0.178649</td>\n",
        "    </tr>\n",
        "    <tr>\n",
        "      <th>std</th>\n",
        "      <td>0.267039</td>\n",
        "    </tr>\n",
        "    <tr>\n",
        "      <th>min</th>\n",
        "      <td>0.002862</td>\n",
        "    </tr>\n",
        "    <tr>\n",
        "      <th>25%</th>\n",
        "      <td>0.014234</td>\n",
        "    </tr>\n",
        "    <tr>\n",
        "      <th>50%</th>\n",
        "      <td>0.041224</td>\n",
        "    </tr>\n",
        "    <tr>\n",
        "      <th>75%</th>\n",
        "      <td>0.215880</td>\n",
        "    </tr>\n",
        "    <tr>\n",
        "      <th>max</th>\n",
        "      <td>0.961728</td>\n",
        "    </tr>\n",
        "  </tbody>\n",
        "</table>\n",
        "</div>"
       ],
       "metadata": {},
       "output_type": "pyout",
       "prompt_number": 248,
       "text": [
        "       Probability1\n",
        "count   1870.000000\n",
        "mean       0.178649\n",
        "std        0.267039\n",
        "min        0.002862\n",
        "25%        0.014234\n",
        "50%        0.041224\n",
        "75%        0.215880\n",
        "max        0.961728"
       ]
      }
     ],
     "prompt_number": 248
    },
    {
     "cell_type": "code",
     "collapsed": false,
     "input": [
      "test_df[['Probability1']].to_csv('massive_clustered_ensemble_ensemble.csv')"
     ],
     "language": "python",
     "metadata": {},
     "outputs": [],
     "prompt_number": 249
    },
    {
     "cell_type": "code",
     "collapsed": false,
     "input": [],
     "language": "python",
     "metadata": {},
     "outputs": []
    }
   ],
   "metadata": {}
  }
 ]
}